{
 "cells": [
  {
   "cell_type": "code",
   "execution_count": 1,
   "metadata": {},
   "outputs": [
    {
     "name": "stdout",
     "output_type": "stream",
     "text": [
      "Result of  2  *  2  =  4\n"
     ]
    }
   ],
   "source": []
  },
  {
   "cell_type": "code",
   "execution_count": 23,
   "metadata": {},
   "outputs": [
    {
     "name": "stdout",
     "output_type": "stream",
     "text": [
      "['Hello', 'World', '10', 5.0, ['Hello1', 'Python1', ['Hi', 'Python2']]]\n"
     ]
    },
    {
     "ename": "TypeError",
     "evalue": "can only concatenate str (not \"float\") to str",
     "output_type": "error",
     "traceback": [
      "\u001b[1;31m---------------------------------------------------------------------------\u001b[0m",
      "\u001b[1;31mTypeError\u001b[0m                                 Traceback (most recent call last)",
      "\u001b[1;32md:\\PYTHON\\sample.ipynb Cell 2\u001b[0m in \u001b[0;36m<cell line: 8>\u001b[1;34m()\u001b[0m\n\u001b[0;32m      <a href='vscode-notebook-cell:/d%3A/PYTHON/sample.ipynb#ch0000001?line=4'>5</a>\u001b[0m List2 \u001b[39m=\u001b[39m [\u001b[39m\"\u001b[39m\u001b[39mHello\u001b[39m\u001b[39m\"\u001b[39m,\u001b[39m'\u001b[39m\u001b[39mWorld\u001b[39m\u001b[39m'\u001b[39m,\u001b[39m\"\u001b[39m\u001b[39m10\u001b[39m\u001b[39m\"\u001b[39m,\u001b[39m5.0\u001b[39m,List1]\n\u001b[0;32m      <a href='vscode-notebook-cell:/d%3A/PYTHON/sample.ipynb#ch0000001?line=5'>6</a>\u001b[0m \u001b[39mprint\u001b[39m(List2)\n\u001b[1;32m----> <a href='vscode-notebook-cell:/d%3A/PYTHON/sample.ipynb#ch0000001?line=7'>8</a>\u001b[0m abc \u001b[39m=\u001b[39m List1[\u001b[39m1\u001b[39;49m] \u001b[39m+\u001b[39;49m List2[\u001b[39m3\u001b[39;49m]\n\u001b[0;32m      <a href='vscode-notebook-cell:/d%3A/PYTHON/sample.ipynb#ch0000001?line=8'>9</a>\u001b[0m \u001b[39mprint\u001b[39m(abc)\n\u001b[0;32m     <a href='vscode-notebook-cell:/d%3A/PYTHON/sample.ipynb#ch0000001?line=10'>11</a>\u001b[0m List3 \u001b[39m=\u001b[39m List2[\u001b[39m4\u001b[39m][\u001b[39m1\u001b[39m] \u001b[39m+\u001b[39m List1[\u001b[39m1\u001b[39m]\n",
      "\u001b[1;31mTypeError\u001b[0m: can only concatenate str (not \"float\") to str"
     ]
    }
   ],
   "source": [
    "from typing import List\n",
    "\n",
    "\n",
    "List1 = [\"Hello1\",'Python1',[\"Hi\",\"Python2\"]]\n",
    "List2 = [\"Hello\",'World',10,5.0,List1]\n",
    "print(List2)\n",
    "\n",
    "abc = List1[1] + List2[3]\n",
    "print(abc)\n",
    "\n",
    "List3 = List2[4][1] + List1[1]\n",
    "print(List3)"
   ]
  },
  {
   "cell_type": "code",
   "execution_count": null,
   "metadata": {},
   "outputs": [],
   "source": []
  }
 ],
 "metadata": {
  "kernelspec": {
   "display_name": "Python 3.9.12 ('base')",
   "language": "python",
   "name": "python3"
  },
  "language_info": {
   "codemirror_mode": {
    "name": "ipython",
    "version": 3
   },
   "file_extension": ".py",
   "mimetype": "text/x-python",
   "name": "python",
   "nbconvert_exporter": "python",
   "pygments_lexer": "ipython3",
   "version": "3.9.12"
  },
  "orig_nbformat": 4,
  "vscode": {
   "interpreter": {
    "hash": "dcf83fb7aecc4ec1d7d3dca26f762fbb0763345c4b34e2c927d4f400edb719a5"
   }
  }
 },
 "nbformat": 4,
 "nbformat_minor": 2
}
